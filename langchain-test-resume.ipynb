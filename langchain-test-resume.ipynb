{
  "nbformat": 4,
  "nbformat_minor": 0,
  "metadata": {
    "colab": {
      "provenance": [],
      "authorship_tag": "ABX9TyNmYwjkF30hSwGU+WHGoJxQ",
      "include_colab_link": true
    },
    "kernelspec": {
      "name": "python3",
      "display_name": "Python 3"
    },
    "language_info": {
      "name": "python"
    }
  },
  "cells": [
    {
      "cell_type": "markdown",
      "metadata": {
        "id": "view-in-github",
        "colab_type": "text"
      },
      "source": [
        "<a href=\"https://colab.research.google.com/github/gotoweb/langchain-resume/blob/main/langchain-test-resume.ipynb\" target=\"_parent\"><img src=\"https://colab.research.google.com/assets/colab-badge.svg\" alt=\"Open In Colab\"/></a>"
      ]
    },
    {
      "cell_type": "code",
      "execution_count": null,
      "metadata": {
        "colab": {
          "base_uri": "https://localhost:8080/"
        },
        "id": "_X6HPMbrPXYm",
        "outputId": "2cf0cdaf-fcb3-4857-d39d-b6b268f9f217"
      },
      "outputs": [
        {
          "output_type": "stream",
          "name": "stdout",
          "text": [
            "Looking in indexes: https://pypi.org/simple, https://us-python.pkg.dev/colab-wheels/public/simple/\n",
            "Collecting openai\n",
            "  Downloading openai-0.27.2-py3-none-any.whl (70 kB)\n",
            "\u001b[2K     \u001b[90m━━━━━━━━━━━━━━━━━━━━━━━━━━━━━━━━━━━━━━━━\u001b[0m \u001b[32m70.1/70.1 KB\u001b[0m \u001b[31m2.2 MB/s\u001b[0m eta \u001b[36m0:00:00\u001b[0m\n",
            "\u001b[?25hCollecting langchain\n",
            "  Downloading langchain-0.0.126-py3-none-any.whl (450 kB)\n",
            "\u001b[2K     \u001b[90m━━━━━━━━━━━━━━━━━━━━━━━━━━━━━━━━━━━━━━\u001b[0m \u001b[32m450.7/450.7 KB\u001b[0m \u001b[31m12.0 MB/s\u001b[0m eta \u001b[36m0:00:00\u001b[0m\n",
            "\u001b[?25hCollecting faiss-cpu\n",
            "  Downloading faiss_cpu-1.7.3-cp39-cp39-manylinux_2_17_x86_64.manylinux2014_x86_64.whl (17.0 MB)\n",
            "\u001b[2K     \u001b[90m━━━━━━━━━━━━━━━━━━━━━━━━━━━━━━━━━━━━━━━━\u001b[0m \u001b[32m17.0/17.0 MB\u001b[0m \u001b[31m41.8 MB/s\u001b[0m eta \u001b[36m0:00:00\u001b[0m\n",
            "\u001b[?25hRequirement already satisfied: tqdm in /usr/local/lib/python3.9/dist-packages (from openai) (4.65.0)\n",
            "Requirement already satisfied: requests>=2.20 in /usr/local/lib/python3.9/dist-packages (from openai) (2.27.1)\n",
            "Collecting aiohttp\n",
            "  Downloading aiohttp-3.8.4-cp39-cp39-manylinux_2_17_x86_64.manylinux2014_x86_64.whl (1.0 MB)\n",
            "\u001b[2K     \u001b[90m━━━━━━━━━━━━━━━━━━━━━━━━━━━━━━━━━━━━━━━━\u001b[0m \u001b[32m1.0/1.0 MB\u001b[0m \u001b[31m26.5 MB/s\u001b[0m eta \u001b[36m0:00:00\u001b[0m\n",
            "\u001b[?25hRequirement already satisfied: tenacity<9.0.0,>=8.1.0 in /usr/local/lib/python3.9/dist-packages (from langchain) (8.2.2)\n",
            "Collecting dataclasses-json<0.6.0,>=0.5.7\n",
            "  Downloading dataclasses_json-0.5.7-py3-none-any.whl (25 kB)\n",
            "Requirement already satisfied: numpy<2,>=1 in /usr/local/lib/python3.9/dist-packages (from langchain) (1.22.4)\n",
            "Requirement already satisfied: PyYAML>=5.4.1 in /usr/local/lib/python3.9/dist-packages (from langchain) (6.0)\n",
            "Collecting pyowm<4.0.0,>=3.3.0\n",
            "  Downloading pyowm-3.3.0-py3-none-any.whl (4.5 MB)\n",
            "\u001b[2K     \u001b[90m━━━━━━━━━━━━━━━━━━━━━━━━━━━━━━━━━━━━━━━━\u001b[0m \u001b[32m4.5/4.5 MB\u001b[0m \u001b[31m56.1 MB/s\u001b[0m eta \u001b[36m0:00:00\u001b[0m\n",
            "\u001b[?25hRequirement already satisfied: SQLAlchemy<2,>=1 in /usr/local/lib/python3.9/dist-packages (from langchain) (1.4.47)\n",
            "Collecting boto3<2.0.0,>=1.26.96\n",
            "  Downloading boto3-1.26.102-py3-none-any.whl (135 kB)\n",
            "\u001b[2K     \u001b[90m━━━━━━━━━━━━━━━━━━━━━━━━━━━━━━━━━━━━━━━\u001b[0m \u001b[32m135.6/135.6 KB\u001b[0m \u001b[31m3.5 MB/s\u001b[0m eta \u001b[36m0:00:00\u001b[0m\n",
            "\u001b[?25hRequirement already satisfied: pydantic<2,>=1 in /usr/local/lib/python3.9/dist-packages (from langchain) (1.10.7)\n",
            "Collecting multidict<7.0,>=4.5\n",
            "  Downloading multidict-6.0.4-cp39-cp39-manylinux_2_17_x86_64.manylinux2014_x86_64.whl (114 kB)\n",
            "\u001b[2K     \u001b[90m━━━━━━━━━━━━━━━━━━━━━━━━━━━━━━━━━━━━━━━\u001b[0m \u001b[32m114.2/114.2 KB\u001b[0m \u001b[31m3.2 MB/s\u001b[0m eta \u001b[36m0:00:00\u001b[0m\n",
            "\u001b[?25hCollecting frozenlist>=1.1.1\n",
            "  Downloading frozenlist-1.3.3-cp39-cp39-manylinux_2_5_x86_64.manylinux1_x86_64.manylinux_2_17_x86_64.manylinux2014_x86_64.whl (158 kB)\n",
            "\u001b[2K     \u001b[90m━━━━━━━━━━━━━━━━━━━━━━━━━━━━━━━━━━━━━━━\u001b[0m \u001b[32m158.8/158.8 KB\u001b[0m \u001b[31m8.5 MB/s\u001b[0m eta \u001b[36m0:00:00\u001b[0m\n",
            "\u001b[?25hCollecting aiosignal>=1.1.2\n",
            "  Downloading aiosignal-1.3.1-py3-none-any.whl (7.6 kB)\n",
            "Collecting yarl<2.0,>=1.0\n",
            "  Downloading yarl-1.8.2-cp39-cp39-manylinux_2_17_x86_64.manylinux2014_x86_64.whl (264 kB)\n",
            "\u001b[2K     \u001b[90m━━━━━━━━━━━━━━━━━━━━━━━━━━━━━━━━━━━━━━\u001b[0m \u001b[32m264.6/264.6 KB\u001b[0m \u001b[31m12.4 MB/s\u001b[0m eta \u001b[36m0:00:00\u001b[0m\n",
            "\u001b[?25hRequirement already satisfied: attrs>=17.3.0 in /usr/local/lib/python3.9/dist-packages (from aiohttp->openai) (22.2.0)\n",
            "Collecting async-timeout<5.0,>=4.0.0a3\n",
            "  Downloading async_timeout-4.0.2-py3-none-any.whl (5.8 kB)\n",
            "Requirement already satisfied: charset-normalizer<4.0,>=2.0 in /usr/local/lib/python3.9/dist-packages (from aiohttp->openai) (2.0.12)\n",
            "Collecting s3transfer<0.7.0,>=0.6.0\n",
            "  Downloading s3transfer-0.6.0-py3-none-any.whl (79 kB)\n",
            "\u001b[2K     \u001b[90m━━━━━━━━━━━━━━━━━━━━━━━━━━━━━━━━━━━━━━━━\u001b[0m \u001b[32m79.6/79.6 KB\u001b[0m \u001b[31m6.0 MB/s\u001b[0m eta \u001b[36m0:00:00\u001b[0m\n",
            "\u001b[?25hCollecting botocore<1.30.0,>=1.29.102\n",
            "  Downloading botocore-1.29.102-py3-none-any.whl (10.6 MB)\n",
            "\u001b[2K     \u001b[90m━━━━━━━━━━━━━━━━━━━━━━━━━━━━━━━━━━━━━━━━\u001b[0m \u001b[32m10.6/10.6 MB\u001b[0m \u001b[31m41.8 MB/s\u001b[0m eta \u001b[36m0:00:00\u001b[0m\n",
            "\u001b[?25hCollecting jmespath<2.0.0,>=0.7.1\n",
            "  Downloading jmespath-1.0.1-py3-none-any.whl (20 kB)\n",
            "Collecting marshmallow-enum<2.0.0,>=1.5.1\n",
            "  Downloading marshmallow_enum-1.5.1-py2.py3-none-any.whl (4.2 kB)\n",
            "Collecting typing-inspect>=0.4.0\n",
            "  Downloading typing_inspect-0.8.0-py3-none-any.whl (8.7 kB)\n",
            "Collecting marshmallow<4.0.0,>=3.3.0\n",
            "  Downloading marshmallow-3.19.0-py3-none-any.whl (49 kB)\n",
            "\u001b[2K     \u001b[90m━━━━━━━━━━━━━━━━━━━━━━━━━━━━━━━━━━━━━━━━\u001b[0m \u001b[32m49.1/49.1 KB\u001b[0m \u001b[31m2.3 MB/s\u001b[0m eta \u001b[36m0:00:00\u001b[0m\n",
            "\u001b[?25hRequirement already satisfied: typing-extensions>=4.2.0 in /usr/local/lib/python3.9/dist-packages (from pydantic<2,>=1->langchain) (4.5.0)\n",
            "Collecting geojson<3,>=2.3.0\n",
            "  Downloading geojson-2.5.0-py2.py3-none-any.whl (14 kB)\n",
            "Requirement already satisfied: PySocks<2,>=1.7.1 in /usr/local/lib/python3.9/dist-packages (from pyowm<4.0.0,>=3.3.0->langchain) (1.7.1)\n",
            "Requirement already satisfied: urllib3<1.27,>=1.21.1 in /usr/local/lib/python3.9/dist-packages (from requests>=2.20->openai) (1.26.15)\n",
            "Requirement already satisfied: certifi>=2017.4.17 in /usr/local/lib/python3.9/dist-packages (from requests>=2.20->openai) (2022.12.7)\n",
            "Requirement already satisfied: idna<4,>=2.5 in /usr/local/lib/python3.9/dist-packages (from requests>=2.20->openai) (3.4)\n",
            "Requirement already satisfied: greenlet!=0.4.17 in /usr/local/lib/python3.9/dist-packages (from SQLAlchemy<2,>=1->langchain) (2.0.2)\n",
            "Requirement already satisfied: python-dateutil<3.0.0,>=2.1 in /usr/local/lib/python3.9/dist-packages (from botocore<1.30.0,>=1.29.102->boto3<2.0.0,>=1.26.96->langchain) (2.8.2)\n",
            "Requirement already satisfied: packaging>=17.0 in /usr/local/lib/python3.9/dist-packages (from marshmallow<4.0.0,>=3.3.0->dataclasses-json<0.6.0,>=0.5.7->langchain) (23.0)\n",
            "Collecting mypy-extensions>=0.3.0\n",
            "  Downloading mypy_extensions-1.0.0-py3-none-any.whl (4.7 kB)\n",
            "Requirement already satisfied: six>=1.5 in /usr/local/lib/python3.9/dist-packages (from python-dateutil<3.0.0,>=2.1->botocore<1.30.0,>=1.29.102->boto3<2.0.0,>=1.26.96->langchain) (1.16.0)\n",
            "Installing collected packages: geojson, faiss-cpu, mypy-extensions, multidict, marshmallow, jmespath, frozenlist, async-timeout, yarl, typing-inspect, marshmallow-enum, botocore, aiosignal, s3transfer, pyowm, dataclasses-json, aiohttp, openai, boto3, langchain\n",
            "Successfully installed aiohttp-3.8.4 aiosignal-1.3.1 async-timeout-4.0.2 boto3-1.26.102 botocore-1.29.102 dataclasses-json-0.5.7 faiss-cpu-1.7.3 frozenlist-1.3.3 geojson-2.5.0 jmespath-1.0.1 langchain-0.0.126 marshmallow-3.19.0 marshmallow-enum-1.5.1 multidict-6.0.4 mypy-extensions-1.0.0 openai-0.27.2 pyowm-3.3.0 s3transfer-0.6.0 typing-inspect-0.8.0 yarl-1.8.2\n"
          ]
        }
      ],
      "source": [
        "!pip install openai langchain faiss-cpu"
      ]
    },
    {
      "cell_type": "code",
      "source": [
        "openai_api_key = \"\""
      ],
      "metadata": {
        "id": "gliTz9syQlYR"
      },
      "execution_count": null,
      "outputs": []
    },
    {
      "cell_type": "code",
      "source": [
        "resume = \"\"\"\n",
        "# 이호용 Hoyong Lee\n",
        "## DevOps/Cloud Engineer\n",
        "\n",
        "- igotoweb@gmail.com\n",
        "- igotoweb.com\n",
        "- https://www.linkedin.com/in/hoyong-lee/\n",
        "\n",
        "5년 이상의 경력을 가진 소프트웨어 아키텍트입니다. 빅데이터 분석 솔루션 개발로 커리어를 시작한 후 주로 프론트엔드 영역에서 일했으며, 이후 현 직장에서 REPL 플랫폼(온라인 코딩 테스트 플랫폼) 개발을 주도하여 프로젝트를 프로덕션 수준까지 운영하였습니다. 또한 부트캠프 교육 프로그램의 Lead로서, 프론트에서 백엔드에 이르기까지 3년 이상의 풍부한 기술 교육 경험을 가지고 있습니다.\n",
        "\n",
        "최근에는 DevOps/클라우드 엔지니어링 연구 및 개발에 전념하고 있으며, 이와 관련된 교육 코스를 제공하는 일을 하고 있습니다. 이에 필수적인 교육 서비스 운영을 DevOps로 실천하고 있습니다. 또한 다양한 개발 경험을 바탕으로 동료 엔지니어의 성장에 기여하는데 집중하고 있습니다.\n",
        "\n",
        "실용적인 아키텍처를 설계하고, 프로덕션 수준의 다양한 운영 이슈를 풀어내는 일에 깊은 관심을 가지고 있습니다.\n",
        "\n",
        "\n",
        "# Work Experience\n",
        "## Senior Researcher / 코드스테이츠\n",
        "### 2018년 4월 - 현재 (4년 이상) \n",
        "\n",
        "- Research, Development\n",
        "  - 국내 최초 초심자 대상 데브옵스 부트캠프 교육 제품 연구 개발을 진행하였습니다.\n",
        "  - 데브옵스/클라우드 엔지니어링 커리큘럼을 개발하고, 교육 콘텐츠를 제작하였습니다. (리드)\n",
        "  - 커리큘럼 내 기술 스택: 리눅스, Docker, AWS, GitHub Actions, Kubernetes, Terraform\n",
        "- Architecture Design: 다음 주제로 프로젝트를 기획하고 교육에 적용하였습니다.\n",
        "  - 스트림 데이터 파이프라인 설계\n",
        "  - 모놀리식 아키텍처의 클라우드 마이그레이션과 마이크로서비스로 분해\n",
        "  - 개발/스테이징 프로덕션 구분을 포함한 CI/CD 파이프라인 구축\n",
        "- Administration, Operation\n",
        "  - 조직 내 30명 이상의 AWS 계정 관리 및 모니터링을 진행하였습니다.\n",
        "  - 수강생 활동 감사 로그를 바탕으로 데이터 파이프라인을 만들고, 비용 관리를 진행했습니다.\n",
        "  - 기술 스택: ECS, CloudTrail, CloudWatch, Redshift\n",
        "  - 커리큘럼 일정에 따른 실습 서버의 프로비저닝을 IaC(Terraform)화 하여 운영하였습니다.\n",
        "- Coaching, Outcomes\n",
        "  - 교육 프로그램의 주 강사로 강의를 진행하고, 다수의 주니어 데브옵스 엔지니어를 배출하였습니다. \n",
        "  - 교육 수강생이 클라우드 관련 기업 취업에 성공하도록 기여하였습니다. \n",
        "- REPL 플랫폼 (온라인 코딩 테스트 플랫폼) 프로덕트 매니지먼트 (~2019년 2분기까지)\n",
        "  - REPL 플랫폼 및 교육 운영 시스템 제품 개발의 책임을 맡았습니다.\n",
        "  - 다음 기술 스택을 활용해 풀스택 애플리케이션을 작성했습니다: React, TypeScript, GraphQL, RDBMS, NoSQL\n",
        "\n",
        "## Front-end Developer / 로그프레소\n",
        "### 2013년 3월 - 2016년 11월 (3년 9개월)\n",
        "\n",
        "- 실시간 빅데이터 분석 플랫폼 \"로그프레소\"를 개발하였습니다.\n",
        "- 비즈니스 인텔리전스(시각화) 및 이상거래 감지 시스템(FDS) 개발에 참여하였습니다.\n",
        "- Splunk, ELK Stack, Tableu 등을 레퍼런스하여, 해당 도구에 대한 높은 이해도를 갖고 있습니다.\n",
        "- 기술 스택: JavaScript, HTML, CSS\n",
        "\n",
        "\n",
        "# Certification \n",
        "## AWS Certified Solutions Architect - Associate\n",
        "2021년 10월\n",
        "\n",
        "\n",
        "# Education\n",
        "## 물리학과 학사 / 인하대학교\n",
        "2014년 2월\n",
        "\n",
        "\"\"\""
      ],
      "metadata": {
        "id": "16MTCBEiQ45c"
      },
      "execution_count": null,
      "outputs": []
    },
    {
      "cell_type": "code",
      "source": [
        "import os\n",
        "os.environ[\"OPENAI_API_KEY\"] = openai_api_key"
      ],
      "metadata": {
        "id": "xdZ4yCy_QoTo"
      },
      "execution_count": null,
      "outputs": []
    },
    {
      "cell_type": "code",
      "source": [
        "from langchain.embeddings.openai import OpenAIEmbeddings\n",
        "from langchain.vectorstores.faiss import FAISS\n",
        "from langchain.text_splitter import RecursiveCharacterTextSplitter\n",
        "from langchain import OpenAI, VectorDBQA\n",
        "\n",
        "text_splitter = RecursiveCharacterTextSplitter(chunk_size=1000, chunk_overlap=0)\n",
        "texts = text_splitter.split_text(resume)\n",
        "\n",
        "embeddings = OpenAIEmbeddings()\n",
        "vectorstore = FAISS.from_texts(texts, embeddings)"
      ],
      "metadata": {
        "id": "JNLnQhtfQspW"
      },
      "execution_count": null,
      "outputs": []
    },
    {
      "cell_type": "code",
      "source": [
        "qa = VectorDBQA.from_chain_type(llm=OpenAI(), chain_type=\"stuff\", vectorstore=vectorstore)"
      ],
      "metadata": {
        "id": "ggZ_selaQzgI"
      },
      "execution_count": null,
      "outputs": []
    },
    {
      "cell_type": "code",
      "source": [
        "query = \"이호용이 보유한 자격증은 무엇 무엇이 있니?\"\n",
        "qa.run(query)"
      ],
      "metadata": {
        "colab": {
          "base_uri": "https://localhost:8080/",
          "height": 36
        },
        "id": "QVvgEpjWQ1Kx",
        "outputId": "98154633-53bd-40b0-b8f9-4e54189f1f1b"
      },
      "execution_count": null,
      "outputs": [
        {
          "output_type": "execute_result",
          "data": {
            "text/plain": [
              "' 이호용이 보유한 자격증은 AWS Certified Solutions Architect - Associate 입니다.'"
            ],
            "application/vnd.google.colaboratory.intrinsic+json": {
              "type": "string"
            }
          },
          "metadata": {},
          "execution_count": 14
        }
      ]
    },
    {
      "cell_type": "code",
      "source": [
        "query = \"이호용이 사용할 수 있는 프로그래밍 언어로는 어떤 것들이 있니?\"\n",
        "qa.run(query)"
      ],
      "metadata": {
        "colab": {
          "base_uri": "https://localhost:8080/",
          "height": 36
        },
        "id": "ee1WGySuTQ-5",
        "outputId": "9eb2ba52-adfc-40e4-b076-2f537da23478"
      },
      "execution_count": null,
      "outputs": [
        {
          "output_type": "execute_result",
          "data": {
            "text/plain": [
              "' JavaScript, HTML, CSS, TypeScript, GraphQL'"
            ],
            "application/vnd.google.colaboratory.intrinsic+json": {
              "type": "string"
            }
          },
          "metadata": {},
          "execution_count": 15
        }
      ]
    },
    {
      "cell_type": "code",
      "source": [
        "query = \"이호용이 사용할 수 있는 클라우드 관련 도구로는 어떤 것들이 있니?\"\n",
        "qa.run(query)"
      ],
      "metadata": {
        "colab": {
          "base_uri": "https://localhost:8080/",
          "height": 36
        },
        "id": "RQFhH6amWIi3",
        "outputId": "9441ad53-893e-4296-8069-707bd31d9bfc"
      },
      "execution_count": null,
      "outputs": [
        {
          "output_type": "execute_result",
          "data": {
            "text/plain": [
              "' AWS, GitHub Actions, Kubernetes, Terraform, ECS, CloudTrail, CloudWatch, Redshift'"
            ],
            "application/vnd.google.colaboratory.intrinsic+json": {
              "type": "string"
            }
          },
          "metadata": {},
          "execution_count": 17
        }
      ]
    },
    {
      "cell_type": "code",
      "source": [
        "query = \"이호용의 이력서를 100자 이내로 요약해줘\"\n",
        "qa.run(query)"
      ],
      "metadata": {
        "colab": {
          "base_uri": "https://localhost:8080/",
          "height": 54
        },
        "id": "lKO2rU1aTxMP",
        "outputId": "d008d334-189d-44e2-9db7-564bcd5f9df0"
      },
      "execution_count": null,
      "outputs": [
        {
          "output_type": "execute_result",
          "data": {
            "text/plain": [
              "' 이호용은 5년 이상의 경력을 가진 소프트웨어 아키텍트이며, AWS Certified Solutions Architect - Associate 자격증을 가진 데브옵스/클라우드 엔지니어링 강사로 활동하고 있으며, 기술 스택으로 JavaScript, HTML, CSS, Linux, Docker, AWS, GitHub Actions, Kubernetes, Terraform을 사용하고 있습니다.'"
            ],
            "application/vnd.google.colaboratory.intrinsic+json": {
              "type": "string"
            }
          },
          "metadata": {},
          "execution_count": 16
        }
      ]
    }
  ]
}